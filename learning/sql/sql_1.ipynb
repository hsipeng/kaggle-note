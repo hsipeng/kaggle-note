{
 "nbformat": 4,
 "nbformat_minor": 2,
 "metadata": {
  "language_info": {
   "name": "python",
   "codemirror_mode": {
    "name": "ipython",
    "version": 3
   },
   "version": "3.6.8"
  },
  "orig_nbformat": 2,
  "file_extension": ".py",
  "mimetype": "text/x-python",
  "name": "python",
  "npconvert_exporter": "python",
  "pygments_lexer": "ipython3",
  "version": 3
 },
 "cells": [
  {
   "cell_type": "code",
   "execution_count": 3,
   "metadata": {},
   "outputs": [],
   "source": [
    "from google.cloud import bigquery\n",
    "import os\n",
    "os.environ[\"GOOGLE_APPLICATION_CREDENTIALS\"]=\"/Users/lirawx/Documents/Workspace/kaggle/learning/sql/bigquery-d9af667f47e8.json\""
   ]
  },
  {
   "cell_type": "code",
   "execution_count": 4,
   "metadata": {},
   "outputs": [],
   "source": [
    "# Create a \"Client\" object\n",
    "client = bigquery.Client()\n",
    "\n",
    "# Using Kaggle's public dataset BigQuery integration.\n",
    "\n",
    "# Construct a reference to the \"hacker_news\" dataset\n",
    "dataset_ref = client.dataset(\"hacker_news\", project=\"bigquery-public-data\")\n",
    "\n",
    "# API request - fetch the dataset\n",
    "dataset = client.get_dataset(dataset_ref)"
   ]
  },
  {
   "cell_type": "code",
   "execution_count": 5,
   "metadata": {},
   "outputs": [
    {
     "name": "stdout",
     "output_type": "stream",
     "text": "comments\nfull\nfull_201510\nstories\n"
    }
   ],
   "source": [
    "# List all the tables in the \"hacker_news\" dataset\n",
    "tables = list(client.list_tables(dataset))\n",
    "\n",
    "# Print names of all tables in the dataset (there are four!)\n",
    "for table in tables:  \n",
    "    print(table.table_id)"
   ]
  },
  {
   "cell_type": "code",
   "execution_count": 6,
   "metadata": {},
   "outputs": [],
   "source": [
    "# Construct a reference to the \"full\" table\n",
    "table_ref = dataset_ref.table(\"full\")\n",
    "\n",
    "# API request - fetch the table\n",
    "table = client.get_table(table_ref)"
   ]
  },
  {
   "cell_type": "code",
   "execution_count": 7,
   "metadata": {},
   "outputs": [
    {
     "data": {
      "text/plain": "[SchemaField('title', 'STRING', 'NULLABLE', 'Story title', ()),\n SchemaField('url', 'STRING', 'NULLABLE', 'Story url', ()),\n SchemaField('text', 'STRING', 'NULLABLE', 'Story or comment text', ()),\n SchemaField('dead', 'BOOLEAN', 'NULLABLE', 'Is dead?', ()),\n SchemaField('by', 'STRING', 'NULLABLE', \"The username of the item's author.\", ()),\n SchemaField('score', 'INTEGER', 'NULLABLE', 'Story score', ()),\n SchemaField('time', 'INTEGER', 'NULLABLE', 'Unix time', ()),\n SchemaField('timestamp', 'TIMESTAMP', 'NULLABLE', 'Timestamp for the unix time', ()),\n SchemaField('type', 'STRING', 'NULLABLE', 'Type of details (comment, comment_ranking, poll, story, job, pollopt)', ()),\n SchemaField('id', 'INTEGER', 'NULLABLE', \"The item's unique id.\", ()),\n SchemaField('parent', 'INTEGER', 'NULLABLE', 'Parent comment ID', ()),\n SchemaField('descendants', 'INTEGER', 'NULLABLE', 'Number of story or poll descendants', ()),\n SchemaField('ranking', 'INTEGER', 'NULLABLE', 'Comment ranking', ()),\n SchemaField('deleted', 'BOOLEAN', 'NULLABLE', 'Is deleted?', ())]"
     },
     "execution_count": 7,
     "metadata": {},
     "output_type": "execute_result"
    }
   ],
   "source": [
    "# Print information on all the columns in the \"full\" table in the \"hacker_news\" dataset\n",
    "table.schema"
   ]
  },
  {
   "cell_type": "code",
   "execution_count": 8,
   "metadata": {},
   "outputs": [
    {
     "data": {
      "text/html": "<div>\n<style scoped>\n    .dataframe tbody tr th:only-of-type {\n        vertical-align: middle;\n    }\n\n    .dataframe tbody tr th {\n        vertical-align: top;\n    }\n\n    .dataframe thead th {\n        text-align: right;\n    }\n</style>\n<table border=\"1\" class=\"dataframe\">\n  <thead>\n    <tr style=\"text-align: right;\">\n      <th></th>\n      <th>title</th>\n      <th>url</th>\n      <th>text</th>\n      <th>dead</th>\n      <th>by</th>\n      <th>score</th>\n      <th>time</th>\n      <th>timestamp</th>\n      <th>type</th>\n      <th>id</th>\n      <th>parent</th>\n      <th>descendants</th>\n      <th>ranking</th>\n      <th>deleted</th>\n    </tr>\n  </thead>\n  <tbody>\n    <tr>\n      <th>0</th>\n      <td>None</td>\n      <td>None</td>\n      <td>The third hand knowledge I have of booking.com...</td>\n      <td>None</td>\n      <td>riffraff</td>\n      <td>NaN</td>\n      <td>1.571642e+09</td>\n      <td>2019-10-21 07:15:26+00:00</td>\n      <td>comment</td>\n      <td>21309980</td>\n      <td>21309254.0</td>\n      <td>NaN</td>\n      <td>None</td>\n      <td>None</td>\n    </tr>\n    <tr>\n      <th>1</th>\n      <td>Skype releases then immediately yanks Skype fo...</td>\n      <td>http://twitter.com/#!/Skype/status/98253150229...</td>\n      <td>None</td>\n      <td>None</td>\n      <td>Terretta</td>\n      <td>4.0</td>\n      <td>1.312264e+09</td>\n      <td>2011-08-02 05:39:00+00:00</td>\n      <td>story</td>\n      <td>2835958</td>\n      <td>NaN</td>\n      <td>0.0</td>\n      <td>None</td>\n      <td>None</td>\n    </tr>\n    <tr>\n      <th>2</th>\n      <td>None</td>\n      <td>None</td>\n      <td>Curious if it is being used out in the field.</td>\n      <td>None</td>\n      <td>brudgers</td>\n      <td>NaN</td>\n      <td>1.501594e+09</td>\n      <td>2017-08-01 13:19:02+00:00</td>\n      <td>comment</td>\n      <td>14900307</td>\n      <td>14899519.0</td>\n      <td>NaN</td>\n      <td>None</td>\n      <td>None</td>\n    </tr>\n    <tr>\n      <th>3</th>\n      <td>None</td>\n      <td>None</td>\n      <td>Look at it another way. In the case of univers...</td>\n      <td>None</td>\n      <td>rsj_hn</td>\n      <td>NaN</td>\n      <td>1.561416e+09</td>\n      <td>2019-06-24 22:36:34+00:00</td>\n      <td>comment</td>\n      <td>20269242</td>\n      <td>20265097.0</td>\n      <td>NaN</td>\n      <td>None</td>\n      <td>None</td>\n    </tr>\n    <tr>\n      <th>4</th>\n      <td>None</td>\n      <td>None</td>\n      <td>None</td>\n      <td>None</td>\n      <td>None</td>\n      <td>NaN</td>\n      <td>NaN</td>\n      <td>NaT</td>\n      <td>story</td>\n      <td>297067</td>\n      <td>NaN</td>\n      <td>NaN</td>\n      <td>None</td>\n      <td>None</td>\n    </tr>\n  </tbody>\n</table>\n</div>",
      "text/plain": "                                               title  \\\n0                                               None   \n1  Skype releases then immediately yanks Skype fo...   \n2                                               None   \n3                                               None   \n4                                               None   \n\n                                                 url  \\\n0                                               None   \n1  http://twitter.com/#!/Skype/status/98253150229...   \n2                                               None   \n3                                               None   \n4                                               None   \n\n                                                text  dead        by  score  \\\n0  The third hand knowledge I have of booking.com...  None  riffraff    NaN   \n1                                               None  None  Terretta    4.0   \n2      Curious if it is being used out in the field.  None  brudgers    NaN   \n3  Look at it another way. In the case of univers...  None    rsj_hn    NaN   \n4                                               None  None      None    NaN   \n\n           time                 timestamp     type        id      parent  \\\n0  1.571642e+09 2019-10-21 07:15:26+00:00  comment  21309980  21309254.0   \n1  1.312264e+09 2011-08-02 05:39:00+00:00    story   2835958         NaN   \n2  1.501594e+09 2017-08-01 13:19:02+00:00  comment  14900307  14899519.0   \n3  1.561416e+09 2019-06-24 22:36:34+00:00  comment  20269242  20265097.0   \n4           NaN                       NaT    story    297067         NaN   \n\n   descendants ranking deleted  \n0          NaN    None    None  \n1          0.0    None    None  \n2          NaN    None    None  \n3          NaN    None    None  \n4          NaN    None    None  "
     },
     "execution_count": 8,
     "metadata": {},
     "output_type": "execute_result"
    }
   ],
   "source": [
    "# Preview the first five lines of the \"full\" table\n",
    "client.list_rows(table, max_results=5).to_dataframe()"
   ]
  },
  {
   "cell_type": "code",
   "execution_count": 9,
   "metadata": {},
   "outputs": [
    {
     "data": {
      "text/html": "<div>\n<style scoped>\n    .dataframe tbody tr th:only-of-type {\n        vertical-align: middle;\n    }\n\n    .dataframe tbody tr th {\n        vertical-align: top;\n    }\n\n    .dataframe thead th {\n        text-align: right;\n    }\n</style>\n<table border=\"1\" class=\"dataframe\">\n  <thead>\n    <tr style=\"text-align: right;\">\n      <th></th>\n      <th>title</th>\n    </tr>\n  </thead>\n  <tbody>\n    <tr>\n      <th>0</th>\n      <td>None</td>\n    </tr>\n    <tr>\n      <th>1</th>\n      <td>Skype releases then immediately yanks Skype fo...</td>\n    </tr>\n    <tr>\n      <th>2</th>\n      <td>None</td>\n    </tr>\n    <tr>\n      <th>3</th>\n      <td>None</td>\n    </tr>\n    <tr>\n      <th>4</th>\n      <td>None</td>\n    </tr>\n  </tbody>\n</table>\n</div>",
      "text/plain": "                                               title\n0                                               None\n1  Skype releases then immediately yanks Skype fo...\n2                                               None\n3                                               None\n4                                               None"
     },
     "execution_count": 9,
     "metadata": {},
     "output_type": "execute_result"
    }
   ],
   "source": [
    "# Preview the first five entries in the \"by\" column of the \"full\" table\n",
    "client.list_rows(table, selected_fields=table.schema[:1], max_results=5).to_dataframe()"
   ]
  },
  {
   "cell_type": "code",
   "execution_count": null,
   "metadata": {},
   "outputs": [],
   "source": []
  }
 ]
}
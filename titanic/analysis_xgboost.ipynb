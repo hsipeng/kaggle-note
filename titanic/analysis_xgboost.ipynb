{
 "nbformat": 4,
 "nbformat_minor": 2,
 "metadata": {
  "language_info": {
   "name": "python",
   "codemirror_mode": {
    "name": "ipython",
    "version": 3
   },
   "version": "3.6.8"
  },
  "orig_nbformat": 2,
  "file_extension": ".py",
  "mimetype": "text/x-python",
  "name": "python",
  "npconvert_exporter": "python",
  "pygments_lexer": "ipython3",
  "version": 3
 },
 "cells": [
  {
   "cell_type": "code",
   "execution_count": 3,
   "metadata": {},
   "outputs": [],
   "source": [
    "#coding:utf-8\n",
    "import numpy as np\n",
    "import pandas as pd\n",
    "from xgboost import XGBClassifier\n",
    "from sklearn.model_selection import KFold,GridSearchCV\n",
    "from sklearn.metrics import accuracy_score\n",
    "\n",
    "#read data\n",
    "train = pd.read_csv(\"./train.csv\")\n",
    "test = pd.read_csv(\"./test.csv\")"
   ]
  },
  {
   "cell_type": "code",
   "execution_count": 4,
   "metadata": {},
   "outputs": [
    {
     "data": {
      "text/html": "<div>\n<style scoped>\n    .dataframe tbody tr th:only-of-type {\n        vertical-align: middle;\n    }\n\n    .dataframe tbody tr th {\n        vertical-align: top;\n    }\n\n    .dataframe thead th {\n        text-align: right;\n    }\n</style>\n<table border=\"1\" class=\"dataframe\">\n  <thead>\n    <tr style=\"text-align: right;\">\n      <th></th>\n      <th>PassengerId</th>\n      <th>Survived</th>\n      <th>Pclass</th>\n      <th>Name</th>\n      <th>Sex</th>\n      <th>Age</th>\n      <th>SibSp</th>\n      <th>Parch</th>\n      <th>Ticket</th>\n      <th>Fare</th>\n      <th>Cabin</th>\n      <th>Embarked</th>\n    </tr>\n  </thead>\n  <tbody>\n    <tr>\n      <th>0</th>\n      <td>1</td>\n      <td>0</td>\n      <td>3</td>\n      <td>Braund, Mr. Owen Harris</td>\n      <td>male</td>\n      <td>22.0</td>\n      <td>1</td>\n      <td>0</td>\n      <td>A/5 21171</td>\n      <td>7.2500</td>\n      <td>NaN</td>\n      <td>S</td>\n    </tr>\n    <tr>\n      <th>1</th>\n      <td>2</td>\n      <td>1</td>\n      <td>1</td>\n      <td>Cumings, Mrs. John Bradley (Florence Briggs Th...</td>\n      <td>female</td>\n      <td>38.0</td>\n      <td>1</td>\n      <td>0</td>\n      <td>PC 17599</td>\n      <td>71.2833</td>\n      <td>C85</td>\n      <td>C</td>\n    </tr>\n    <tr>\n      <th>2</th>\n      <td>3</td>\n      <td>1</td>\n      <td>3</td>\n      <td>Heikkinen, Miss. Laina</td>\n      <td>female</td>\n      <td>26.0</td>\n      <td>0</td>\n      <td>0</td>\n      <td>STON/O2. 3101282</td>\n      <td>7.9250</td>\n      <td>NaN</td>\n      <td>S</td>\n    </tr>\n    <tr>\n      <th>3</th>\n      <td>4</td>\n      <td>1</td>\n      <td>1</td>\n      <td>Futrelle, Mrs. Jacques Heath (Lily May Peel)</td>\n      <td>female</td>\n      <td>35.0</td>\n      <td>1</td>\n      <td>0</td>\n      <td>113803</td>\n      <td>53.1000</td>\n      <td>C123</td>\n      <td>S</td>\n    </tr>\n    <tr>\n      <th>4</th>\n      <td>5</td>\n      <td>0</td>\n      <td>3</td>\n      <td>Allen, Mr. William Henry</td>\n      <td>male</td>\n      <td>35.0</td>\n      <td>0</td>\n      <td>0</td>\n      <td>373450</td>\n      <td>8.0500</td>\n      <td>NaN</td>\n      <td>S</td>\n    </tr>\n    <tr>\n      <th>5</th>\n      <td>6</td>\n      <td>0</td>\n      <td>3</td>\n      <td>Moran, Mr. James</td>\n      <td>male</td>\n      <td>NaN</td>\n      <td>0</td>\n      <td>0</td>\n      <td>330877</td>\n      <td>8.4583</td>\n      <td>NaN</td>\n      <td>Q</td>\n    </tr>\n    <tr>\n      <th>6</th>\n      <td>7</td>\n      <td>0</td>\n      <td>1</td>\n      <td>McCarthy, Mr. Timothy J</td>\n      <td>male</td>\n      <td>54.0</td>\n      <td>0</td>\n      <td>0</td>\n      <td>17463</td>\n      <td>51.8625</td>\n      <td>E46</td>\n      <td>S</td>\n    </tr>\n    <tr>\n      <th>7</th>\n      <td>8</td>\n      <td>0</td>\n      <td>3</td>\n      <td>Palsson, Master. Gosta Leonard</td>\n      <td>male</td>\n      <td>2.0</td>\n      <td>3</td>\n      <td>1</td>\n      <td>349909</td>\n      <td>21.0750</td>\n      <td>NaN</td>\n      <td>S</td>\n    </tr>\n    <tr>\n      <th>8</th>\n      <td>9</td>\n      <td>1</td>\n      <td>3</td>\n      <td>Johnson, Mrs. Oscar W (Elisabeth Vilhelmina Berg)</td>\n      <td>female</td>\n      <td>27.0</td>\n      <td>0</td>\n      <td>2</td>\n      <td>347742</td>\n      <td>11.1333</td>\n      <td>NaN</td>\n      <td>S</td>\n    </tr>\n    <tr>\n      <th>9</th>\n      <td>10</td>\n      <td>1</td>\n      <td>2</td>\n      <td>Nasser, Mrs. Nicholas (Adele Achem)</td>\n      <td>female</td>\n      <td>14.0</td>\n      <td>1</td>\n      <td>0</td>\n      <td>237736</td>\n      <td>30.0708</td>\n      <td>NaN</td>\n      <td>C</td>\n    </tr>\n  </tbody>\n</table>\n</div>",
      "text/plain": "   PassengerId  Survived  Pclass  \\\n0            1         0       3   \n1            2         1       1   \n2            3         1       3   \n3            4         1       1   \n4            5         0       3   \n5            6         0       3   \n6            7         0       1   \n7            8         0       3   \n8            9         1       3   \n9           10         1       2   \n\n                                                Name     Sex   Age  SibSp  \\\n0                            Braund, Mr. Owen Harris    male  22.0      1   \n1  Cumings, Mrs. John Bradley (Florence Briggs Th...  female  38.0      1   \n2                             Heikkinen, Miss. Laina  female  26.0      0   \n3       Futrelle, Mrs. Jacques Heath (Lily May Peel)  female  35.0      1   \n4                           Allen, Mr. William Henry    male  35.0      0   \n5                                   Moran, Mr. James    male   NaN      0   \n6                            McCarthy, Mr. Timothy J    male  54.0      0   \n7                     Palsson, Master. Gosta Leonard    male   2.0      3   \n8  Johnson, Mrs. Oscar W (Elisabeth Vilhelmina Berg)  female  27.0      0   \n9                Nasser, Mrs. Nicholas (Adele Achem)  female  14.0      1   \n\n   Parch            Ticket     Fare Cabin Embarked  \n0      0         A/5 21171   7.2500   NaN        S  \n1      0          PC 17599  71.2833   C85        C  \n2      0  STON/O2. 3101282   7.9250   NaN        S  \n3      0            113803  53.1000  C123        S  \n4      0            373450   8.0500   NaN        S  \n5      0            330877   8.4583   NaN        Q  \n6      0             17463  51.8625   E46        S  \n7      1            349909  21.0750   NaN        S  \n8      2            347742  11.1333   NaN        S  \n9      0            237736  30.0708   NaN        C  "
     },
     "execution_count": 4,
     "metadata": {},
     "output_type": "execute_result"
    }
   ],
   "source": [
    "train.head(10)"
   ]
  },
  {
   "cell_type": "code",
   "execution_count": 5,
   "metadata": {},
   "outputs": [],
   "source": [
    "def clean_data(titanic):#填充空数据 和 把string数据转成integer表示\n",
    "    titanic[\"Age\"] = titanic[\"Age\"].fillna(titanic[\"Age\"].median())\n",
    "    # child\n",
    "    titanic[\"child\"] = titanic[\"Age\"].apply(lambda x: 1 if x < 15 else 0)\n",
    "\n",
    "    # sex\n",
    "    titanic[\"sex\"] = titanic[\"Sex\"].apply(lambda x: 1 if x == \"male\" else 0)\n",
    "\n",
    "    titanic[\"Embarked\"] = titanic[\"Embarked\"].fillna(\"S\")\n",
    "    # embark\n",
    "    def getEmbark(Embarked):\n",
    "        if Embarked == \"S\":\n",
    "            return 1\n",
    "        elif Embarked == \"C\":\n",
    "            return 2\n",
    "        else:\n",
    "            return 3\n",
    "    titanic[\"embark\"] = titanic[\"Embarked\"].apply(getEmbark)\n",
    "\n",
    "    # familysize\n",
    "    titanic[\"fimalysize\"] = titanic[\"SibSp\"] + titanic[\"Parch\"] + 1\n",
    "\n",
    "    # cabin\n",
    "    def getCabin(cabin):\n",
    "        if cabin == \"N\":\n",
    "            return 0\n",
    "        else:\n",
    "            return 1\n",
    "    titanic[\"cabin\"] = titanic[\"Cabin\"].apply(getCabin)\n",
    "\n",
    "    # name\n",
    "    def getName(name):\n",
    "        if \"Mr\" in str(name):\n",
    "            return 1\n",
    "        elif \"Mrs\" in str(name):\n",
    "            return 2\n",
    "        else:\n",
    "            return 0\n",
    "    titanic[\"name\"] = titanic[\"Name\"].apply(getName)\n",
    "\n",
    "    titanic[\"Fare\"] = titanic[\"Fare\"].fillna(titanic[\"Fare\"].median())\n",
    "\n",
    "    return titanic\n"
   ]
  },
  {
   "cell_type": "code",
   "execution_count": 6,
   "metadata": {},
   "outputs": [],
   "source": [
    "# 对数据进行清洗\n",
    "train_data = clean_data(train)\n",
    "test_data = clean_data(test)"
   ]
  },
  {
   "cell_type": "code",
   "execution_count": 7,
   "metadata": {},
   "outputs": [
    {
     "data": {
      "text/html": "<div>\n<style scoped>\n    .dataframe tbody tr th:only-of-type {\n        vertical-align: middle;\n    }\n\n    .dataframe tbody tr th {\n        vertical-align: top;\n    }\n\n    .dataframe thead th {\n        text-align: right;\n    }\n</style>\n<table border=\"1\" class=\"dataframe\">\n  <thead>\n    <tr style=\"text-align: right;\">\n      <th></th>\n      <th>PassengerId</th>\n      <th>Survived</th>\n      <th>Pclass</th>\n      <th>Name</th>\n      <th>Sex</th>\n      <th>Age</th>\n      <th>SibSp</th>\n      <th>Parch</th>\n      <th>Ticket</th>\n      <th>Fare</th>\n      <th>Cabin</th>\n      <th>Embarked</th>\n      <th>child</th>\n      <th>sex</th>\n      <th>embark</th>\n      <th>fimalysize</th>\n      <th>cabin</th>\n      <th>name</th>\n    </tr>\n  </thead>\n  <tbody>\n    <tr>\n      <th>0</th>\n      <td>1</td>\n      <td>0</td>\n      <td>3</td>\n      <td>Braund, Mr. Owen Harris</td>\n      <td>male</td>\n      <td>22.0</td>\n      <td>1</td>\n      <td>0</td>\n      <td>A/5 21171</td>\n      <td>7.2500</td>\n      <td>NaN</td>\n      <td>S</td>\n      <td>0</td>\n      <td>1</td>\n      <td>1</td>\n      <td>2</td>\n      <td>1</td>\n      <td>1</td>\n    </tr>\n    <tr>\n      <th>1</th>\n      <td>2</td>\n      <td>1</td>\n      <td>1</td>\n      <td>Cumings, Mrs. John Bradley (Florence Briggs Th...</td>\n      <td>female</td>\n      <td>38.0</td>\n      <td>1</td>\n      <td>0</td>\n      <td>PC 17599</td>\n      <td>71.2833</td>\n      <td>C85</td>\n      <td>C</td>\n      <td>0</td>\n      <td>0</td>\n      <td>2</td>\n      <td>2</td>\n      <td>1</td>\n      <td>1</td>\n    </tr>\n    <tr>\n      <th>2</th>\n      <td>3</td>\n      <td>1</td>\n      <td>3</td>\n      <td>Heikkinen, Miss. Laina</td>\n      <td>female</td>\n      <td>26.0</td>\n      <td>0</td>\n      <td>0</td>\n      <td>STON/O2. 3101282</td>\n      <td>7.9250</td>\n      <td>NaN</td>\n      <td>S</td>\n      <td>0</td>\n      <td>0</td>\n      <td>1</td>\n      <td>1</td>\n      <td>1</td>\n      <td>0</td>\n    </tr>\n    <tr>\n      <th>3</th>\n      <td>4</td>\n      <td>1</td>\n      <td>1</td>\n      <td>Futrelle, Mrs. Jacques Heath (Lily May Peel)</td>\n      <td>female</td>\n      <td>35.0</td>\n      <td>1</td>\n      <td>0</td>\n      <td>113803</td>\n      <td>53.1000</td>\n      <td>C123</td>\n      <td>S</td>\n      <td>0</td>\n      <td>0</td>\n      <td>1</td>\n      <td>2</td>\n      <td>1</td>\n      <td>1</td>\n    </tr>\n    <tr>\n      <th>4</th>\n      <td>5</td>\n      <td>0</td>\n      <td>3</td>\n      <td>Allen, Mr. William Henry</td>\n      <td>male</td>\n      <td>35.0</td>\n      <td>0</td>\n      <td>0</td>\n      <td>373450</td>\n      <td>8.0500</td>\n      <td>NaN</td>\n      <td>S</td>\n      <td>0</td>\n      <td>1</td>\n      <td>1</td>\n      <td>1</td>\n      <td>1</td>\n      <td>1</td>\n    </tr>\n    <tr>\n      <th>5</th>\n      <td>6</td>\n      <td>0</td>\n      <td>3</td>\n      <td>Moran, Mr. James</td>\n      <td>male</td>\n      <td>28.0</td>\n      <td>0</td>\n      <td>0</td>\n      <td>330877</td>\n      <td>8.4583</td>\n      <td>NaN</td>\n      <td>Q</td>\n      <td>0</td>\n      <td>1</td>\n      <td>3</td>\n      <td>1</td>\n      <td>1</td>\n      <td>1</td>\n    </tr>\n    <tr>\n      <th>6</th>\n      <td>7</td>\n      <td>0</td>\n      <td>1</td>\n      <td>McCarthy, Mr. Timothy J</td>\n      <td>male</td>\n      <td>54.0</td>\n      <td>0</td>\n      <td>0</td>\n      <td>17463</td>\n      <td>51.8625</td>\n      <td>E46</td>\n      <td>S</td>\n      <td>0</td>\n      <td>1</td>\n      <td>1</td>\n      <td>1</td>\n      <td>1</td>\n      <td>1</td>\n    </tr>\n    <tr>\n      <th>7</th>\n      <td>8</td>\n      <td>0</td>\n      <td>3</td>\n      <td>Palsson, Master. Gosta Leonard</td>\n      <td>male</td>\n      <td>2.0</td>\n      <td>3</td>\n      <td>1</td>\n      <td>349909</td>\n      <td>21.0750</td>\n      <td>NaN</td>\n      <td>S</td>\n      <td>1</td>\n      <td>1</td>\n      <td>1</td>\n      <td>5</td>\n      <td>1</td>\n      <td>0</td>\n    </tr>\n    <tr>\n      <th>8</th>\n      <td>9</td>\n      <td>1</td>\n      <td>3</td>\n      <td>Johnson, Mrs. Oscar W (Elisabeth Vilhelmina Berg)</td>\n      <td>female</td>\n      <td>27.0</td>\n      <td>0</td>\n      <td>2</td>\n      <td>347742</td>\n      <td>11.1333</td>\n      <td>NaN</td>\n      <td>S</td>\n      <td>0</td>\n      <td>0</td>\n      <td>1</td>\n      <td>3</td>\n      <td>1</td>\n      <td>1</td>\n    </tr>\n    <tr>\n      <th>9</th>\n      <td>10</td>\n      <td>1</td>\n      <td>2</td>\n      <td>Nasser, Mrs. Nicholas (Adele Achem)</td>\n      <td>female</td>\n      <td>14.0</td>\n      <td>1</td>\n      <td>0</td>\n      <td>237736</td>\n      <td>30.0708</td>\n      <td>NaN</td>\n      <td>C</td>\n      <td>1</td>\n      <td>0</td>\n      <td>2</td>\n      <td>2</td>\n      <td>1</td>\n      <td>1</td>\n    </tr>\n  </tbody>\n</table>\n</div>",
      "text/plain": "   PassengerId  Survived  Pclass  \\\n0            1         0       3   \n1            2         1       1   \n2            3         1       3   \n3            4         1       1   \n4            5         0       3   \n5            6         0       3   \n6            7         0       1   \n7            8         0       3   \n8            9         1       3   \n9           10         1       2   \n\n                                                Name     Sex   Age  SibSp  \\\n0                            Braund, Mr. Owen Harris    male  22.0      1   \n1  Cumings, Mrs. John Bradley (Florence Briggs Th...  female  38.0      1   \n2                             Heikkinen, Miss. Laina  female  26.0      0   \n3       Futrelle, Mrs. Jacques Heath (Lily May Peel)  female  35.0      1   \n4                           Allen, Mr. William Henry    male  35.0      0   \n5                                   Moran, Mr. James    male  28.0      0   \n6                            McCarthy, Mr. Timothy J    male  54.0      0   \n7                     Palsson, Master. Gosta Leonard    male   2.0      3   \n8  Johnson, Mrs. Oscar W (Elisabeth Vilhelmina Berg)  female  27.0      0   \n9                Nasser, Mrs. Nicholas (Adele Achem)  female  14.0      1   \n\n   Parch            Ticket     Fare Cabin Embarked  child  sex  embark  \\\n0      0         A/5 21171   7.2500   NaN        S      0    1       1   \n1      0          PC 17599  71.2833   C85        C      0    0       2   \n2      0  STON/O2. 3101282   7.9250   NaN        S      0    0       1   \n3      0            113803  53.1000  C123        S      0    0       1   \n4      0            373450   8.0500   NaN        S      0    1       1   \n5      0            330877   8.4583   NaN        Q      0    1       3   \n6      0             17463  51.8625   E46        S      0    1       1   \n7      1            349909  21.0750   NaN        S      1    1       1   \n8      2            347742  11.1333   NaN        S      0    0       1   \n9      0            237736  30.0708   NaN        C      1    0       2   \n\n   fimalysize  cabin  name  \n0           2      1     1  \n1           2      1     1  \n2           1      1     0  \n3           2      1     1  \n4           1      1     1  \n5           1      1     1  \n6           1      1     1  \n7           5      1     0  \n8           3      1     1  \n9           2      1     1  "
     },
     "execution_count": 7,
     "metadata": {},
     "output_type": "execute_result"
    }
   ],
   "source": [
    "train_data.head(10)"
   ]
  },
  {
   "cell_type": "code",
   "execution_count": 8,
   "metadata": {},
   "outputs": [],
   "source": [
    "features = [\"Pclass\", \"sex\", \"child\", \"fimalysize\", \"Fare\", \"embark\", \"cabin\"]"
   ]
  },
  {
   "cell_type": "code",
   "execution_count": 9,
   "metadata": {},
   "outputs": [],
   "source": [
    "# 简单初始化xgb的分类器就可以\n",
    "clf =XGBClassifier(learning_rate=0.1, max_depth=2, \n",
    "silent=True, objective='binary:logistic')"
   ]
  },
  {
   "cell_type": "code",
   "execution_count": 11,
   "metadata": {},
   "outputs": [
    {
     "name": "stdout",
     "output_type": "stream",
     "text": "GridSearchCV(cv=5, error_score=nan,\n             estimator=XGBClassifier(base_score=0.5, booster='gbtree',\n                                     colsample_bylevel=1, colsample_bynode=1,\n                                     colsample_bytree=1, gamma=0,\n                                     learning_rate=0.1, max_delta_step=0,\n                                     max_depth=2, min_child_weight=1,\n                                     missing=None, n_estimators=100, n_jobs=1,\n                                     nthread=None, objective='binary:logistic',\n                                     random_state=0, reg_alpha=0, reg_lambda=1,\n                                     scale_pos_weight=1, seed=None, silent=True,\n                                     subsample=1, verbosity=1),\n             iid='deprecated', n_jobs=None,\n             param_grid={'max_depth': range(2, 7),\n                         'n_estimators': range(30, 50, 2)},\n             pre_dispatch='2*n_jobs', refit=True, return_train_score=False,\n             scoring='accuracy', verbose=0)\n"
    }
   ],
   "source": [
    "# 设置boosting迭代计算次数\n",
    "param_test = {\n",
    "    'n_estimators': range(30, 50, 2),\n",
    "    'max_depth': range(2, 7, 1)\n",
    "}\n",
    "grid_search = GridSearchCV(estimator = clf, param_grid = param_test, \n",
    "scoring='accuracy', cv=5)\n",
    "grid_search.fit(train[features], train[\"Survived\"])\n",
    "print(grid_search)"
   ]
  },
  {
   "cell_type": "code",
   "execution_count": 13,
   "metadata": {},
   "outputs": [
    {
     "data": {
      "text/plain": "{'mean_fit_time': array([0.02529602, 0.02699146, 0.02358427, 0.01765141, 0.01704483,\n        0.01921439, 0.01775708, 0.01897488, 0.02042651, 0.01965175,\n        0.01654248, 0.01722598, 0.01819692, 0.0192286 , 0.02060065,\n        0.02145123, 0.02222691, 0.02124696, 0.02069478, 0.0216536 ,\n        0.01763682, 0.01878238, 0.01962004, 0.02051687, 0.02208838,\n        0.02295089, 0.02379723, 0.0247952 , 0.02729897, 0.02703838,\n        0.02049465, 0.0223979 , 0.0239862 , 0.02408643, 0.02532668,\n        0.02667284, 0.02852712, 0.02871809, 0.02973762, 0.03087101,\n        0.02386532, 0.02452869, 0.02813282, 0.02717824, 0.0283143 ,\n        0.0294642 , 0.03053894, 0.0319571 , 0.03309402, 0.03485341]),\n 'std_fit_time': array([0.00376015, 0.0066594 , 0.01142605, 0.00287388, 0.00187585,\n        0.0038194 , 0.00055832, 0.00078364, 0.00108275, 0.00030588,\n        0.00056619, 0.00053829, 0.00028714, 0.00050225, 0.0008637 ,\n        0.00103634, 0.00103354, 0.00127406, 0.00053369, 0.00069363,\n        0.00047224, 0.00082155, 0.00072474, 0.00057488, 0.00131876,\n        0.00085714, 0.00101383, 0.00135119, 0.00202426, 0.00141252,\n        0.00042839, 0.00133114, 0.00202891, 0.00082331, 0.00053392,\n        0.0008895 , 0.00240176, 0.00092657, 0.00067382, 0.00072136,\n        0.00108617, 0.00046228, 0.00255886, 0.00075708, 0.00024948,\n        0.0007355 , 0.00032908, 0.00052012, 0.00031964, 0.00076922]),\n 'mean_score_time': array([0.00242229, 0.00197792, 0.00203009, 0.00156417, 0.0018404 ,\n        0.00163836, 0.00132504, 0.00158339, 0.00120006, 0.00151138,\n        0.00128808, 0.00144043, 0.00146446, 0.00138988, 0.00143657,\n        0.00136538, 0.00126481, 0.00121536, 0.00115876, 0.00140882,\n        0.0014647 , 0.0012486 , 0.00121355, 0.00127997, 0.00138454,\n        0.00153766, 0.00129213, 0.00145264, 0.0013483 , 0.00142083,\n        0.00162601, 0.00146399, 0.00127296, 0.00168223, 0.0015799 ,\n        0.00154738, 0.00144682, 0.00140147, 0.00141273, 0.00136991,\n        0.00128226, 0.00140224, 0.00161648, 0.00134864, 0.00129752,\n        0.00138516, 0.00140915, 0.00155568, 0.00142922, 0.00149698]),\n 'std_score_time': array([4.71906668e-04, 4.51703312e-04, 5.66602190e-04, 1.69619067e-04,\n        1.37178277e-03, 8.74697603e-04, 1.99152373e-04, 5.63453179e-04,\n        5.64271049e-05, 3.98316050e-04, 1.51411424e-04, 5.60025249e-04,\n        3.85893344e-04, 4.05826343e-04, 2.98418492e-04, 3.08855102e-04,\n        1.26899529e-04, 1.36297761e-04, 7.99207243e-05, 3.55597358e-04,\n        5.85744650e-04, 4.66355517e-05, 4.99817698e-05, 1.25223611e-04,\n        1.87770299e-04, 3.53527230e-04, 5.12706612e-05, 4.55131498e-04,\n        9.45895658e-05, 2.30973767e-04, 5.05225565e-04, 3.88162979e-04,\n        5.67110353e-05, 7.80359728e-04, 5.33846545e-04, 4.36162962e-04,\n        1.26081606e-04, 1.46870830e-04, 2.13154349e-04, 7.76790123e-05,\n        6.80079792e-05, 3.01006514e-04, 3.31171113e-04, 1.00891644e-04,\n        9.20202320e-05, 2.75961216e-04, 1.32263884e-04, 1.53859029e-04,\n        1.97067781e-04, 2.60259774e-04]),\n 'param_max_depth': masked_array(data=[2, 2, 2, 2, 2, 2, 2, 2, 2, 2, 3, 3, 3, 3, 3, 3, 3, 3,\n                    3, 3, 4, 4, 4, 4, 4, 4, 4, 4, 4, 4, 5, 5, 5, 5, 5, 5,\n                    5, 5, 5, 5, 6, 6, 6, 6, 6, 6, 6, 6, 6, 6],\n              mask=[False, False, False, False, False, False, False, False,\n                    False, False, False, False, False, False, False, False,\n                    False, False, False, False, False, False, False, False,\n                    False, False, False, False, False, False, False, False,\n                    False, False, False, False, False, False, False, False,\n                    False, False, False, False, False, False, False, False,\n                    False, False],\n        fill_value='?',\n             dtype=object),\n 'param_n_estimators': masked_array(data=[30, 32, 34, 36, 38, 40, 42, 44, 46, 48, 30, 32, 34, 36,\n                    38, 40, 42, 44, 46, 48, 30, 32, 34, 36, 38, 40, 42, 44,\n                    46, 48, 30, 32, 34, 36, 38, 40, 42, 44, 46, 48, 30, 32,\n                    34, 36, 38, 40, 42, 44, 46, 48],\n              mask=[False, False, False, False, False, False, False, False,\n                    False, False, False, False, False, False, False, False,\n                    False, False, False, False, False, False, False, False,\n                    False, False, False, False, False, False, False, False,\n                    False, False, False, False, False, False, False, False,\n                    False, False, False, False, False, False, False, False,\n                    False, False],\n        fill_value='?',\n             dtype=object),\n 'params': [{'max_depth': 2, 'n_estimators': 30},\n  {'max_depth': 2, 'n_estimators': 32},\n  {'max_depth': 2, 'n_estimators': 34},\n  {'max_depth': 2, 'n_estimators': 36},\n  {'max_depth': 2, 'n_estimators': 38},\n  {'max_depth': 2, 'n_estimators': 40},\n  {'max_depth': 2, 'n_estimators': 42},\n  {'max_depth': 2, 'n_estimators': 44},\n  {'max_depth': 2, 'n_estimators': 46},\n  {'max_depth': 2, 'n_estimators': 48},\n  {'max_depth': 3, 'n_estimators': 30},\n  {'max_depth': 3, 'n_estimators': 32},\n  {'max_depth': 3, 'n_estimators': 34},\n  {'max_depth': 3, 'n_estimators': 36},\n  {'max_depth': 3, 'n_estimators': 38},\n  {'max_depth': 3, 'n_estimators': 40},\n  {'max_depth': 3, 'n_estimators': 42},\n  {'max_depth': 3, 'n_estimators': 44},\n  {'max_depth': 3, 'n_estimators': 46},\n  {'max_depth': 3, 'n_estimators': 48},\n  {'max_depth': 4, 'n_estimators': 30},\n  {'max_depth': 4, 'n_estimators': 32},\n  {'max_depth': 4, 'n_estimators': 34},\n  {'max_depth': 4, 'n_estimators': 36},\n  {'max_depth': 4, 'n_estimators': 38},\n  {'max_depth': 4, 'n_estimators': 40},\n  {'max_depth': 4, 'n_estimators': 42},\n  {'max_depth': 4, 'n_estimators': 44},\n  {'max_depth': 4, 'n_estimators': 46},\n  {'max_depth': 4, 'n_estimators': 48},\n  {'max_depth': 5, 'n_estimators': 30},\n  {'max_depth': 5, 'n_estimators': 32},\n  {'max_depth': 5, 'n_estimators': 34},\n  {'max_depth': 5, 'n_estimators': 36},\n  {'max_depth': 5, 'n_estimators': 38},\n  {'max_depth': 5, 'n_estimators': 40},\n  {'max_depth': 5, 'n_estimators': 42},\n  {'max_depth': 5, 'n_estimators': 44},\n  {'max_depth': 5, 'n_estimators': 46},\n  {'max_depth': 5, 'n_estimators': 48},\n  {'max_depth': 6, 'n_estimators': 30},\n  {'max_depth': 6, 'n_estimators': 32},\n  {'max_depth': 6, 'n_estimators': 34},\n  {'max_depth': 6, 'n_estimators': 36},\n  {'max_depth': 6, 'n_estimators': 38},\n  {'max_depth': 6, 'n_estimators': 40},\n  {'max_depth': 6, 'n_estimators': 42},\n  {'max_depth': 6, 'n_estimators': 44},\n  {'max_depth': 6, 'n_estimators': 46},\n  {'max_depth': 6, 'n_estimators': 48}],\n 'split0_test_score': array([0.82122905, 0.82681564, 0.82681564, 0.82681564, 0.83798883,\n        0.83798883, 0.83798883, 0.83798883, 0.83798883, 0.83240223,\n        0.81564246, 0.81005587, 0.81005587, 0.81005587, 0.80446927,\n        0.81005587, 0.80446927, 0.80446927, 0.78212291, 0.78212291,\n        0.80446927, 0.79888268, 0.79888268, 0.79888268, 0.79888268,\n        0.79888268, 0.79888268, 0.79888268, 0.79888268, 0.79329609,\n        0.79888268, 0.79888268, 0.79888268, 0.79888268, 0.79888268,\n        0.80446927, 0.80446927, 0.80446927, 0.79888268, 0.7877095 ,\n        0.81564246, 0.81564246, 0.81005587, 0.80446927, 0.81005587,\n        0.81005587, 0.81005587, 0.80446927, 0.81005587, 0.80446927]),\n 'split1_test_score': array([0.82022472, 0.8258427 , 0.83146067, 0.82022472, 0.83146067,\n        0.82022472, 0.82022472, 0.82022472, 0.82022472, 0.82022472,\n        0.82022472, 0.82022472, 0.80898876, 0.81460674, 0.81460674,\n        0.81460674, 0.81460674, 0.81460674, 0.81460674, 0.81460674,\n        0.79775281, 0.79775281, 0.79775281, 0.79775281, 0.80337079,\n        0.80337079, 0.80337079, 0.80337079, 0.80337079, 0.79775281,\n        0.82022472, 0.82022472, 0.82022472, 0.8258427 , 0.8258427 ,\n        0.8258427 , 0.8258427 , 0.8258427 , 0.8258427 , 0.8258427 ,\n        0.82022472, 0.82022472, 0.82022472, 0.82022472, 0.82022472,\n        0.82022472, 0.82022472, 0.82022472, 0.81460674, 0.82022472]),\n 'split2_test_score': array([0.81460674, 0.8258427 , 0.8258427 , 0.8258427 , 0.8258427 ,\n        0.8258427 , 0.8258427 , 0.8258427 , 0.8258427 , 0.8258427 ,\n        0.83707865, 0.83707865, 0.84269663, 0.84269663, 0.83707865,\n        0.83707865, 0.83707865, 0.83707865, 0.83707865, 0.84269663,\n        0.8258427 , 0.83146067, 0.83707865, 0.84269663, 0.84269663,\n        0.83146067, 0.85393258, 0.86516854, 0.87078652, 0.85955056,\n        0.87640449, 0.87640449, 0.87640449, 0.88202247, 0.87640449,\n        0.88202247, 0.88202247, 0.88202247, 0.88202247, 0.88202247,\n        0.87078652, 0.87078652, 0.87640449, 0.87640449, 0.87640449,\n        0.87640449, 0.87640449, 0.87640449, 0.87640449, 0.87640449]),\n 'split3_test_score': array([0.80337079, 0.80337079, 0.80337079, 0.80337079, 0.79213483,\n        0.79213483, 0.79213483, 0.79213483, 0.79213483, 0.79213483,\n        0.79213483, 0.79213483, 0.79213483, 0.79213483, 0.79213483,\n        0.79213483, 0.79213483, 0.79213483, 0.79213483, 0.79213483,\n        0.78651685, 0.79213483, 0.79213483, 0.79213483, 0.80337079,\n        0.80337079, 0.80337079, 0.80337079, 0.80337079, 0.80337079,\n        0.79213483, 0.79213483, 0.79213483, 0.79213483, 0.79775281,\n        0.79775281, 0.79775281, 0.79775281, 0.79775281, 0.79775281,\n        0.79213483, 0.79213483, 0.79213483, 0.79213483, 0.78089888,\n        0.78089888, 0.78089888, 0.78089888, 0.78089888, 0.78089888]),\n 'split4_test_score': array([0.82022472, 0.8258427 , 0.83146067, 0.83146067, 0.83146067,\n        0.83146067, 0.83146067, 0.83146067, 0.83146067, 0.83146067,\n        0.83707865, 0.83707865, 0.83707865, 0.83707865, 0.83707865,\n        0.83707865, 0.83707865, 0.83707865, 0.83707865, 0.83707865,\n        0.84831461, 0.84269663, 0.84269663, 0.84269663, 0.84269663,\n        0.84269663, 0.84831461, 0.84831461, 0.84831461, 0.84831461,\n        0.85393258, 0.84831461, 0.84831461, 0.85393258, 0.84831461,\n        0.84831461, 0.84831461, 0.85393258, 0.85393258, 0.85393258,\n        0.85393258, 0.85955056, 0.85955056, 0.85393258, 0.85393258,\n        0.85393258, 0.85393258, 0.86516854, 0.85955056, 0.85955056]),\n 'mean_test_score': array([0.8159312 , 0.8215429 , 0.82379009, 0.8215429 , 0.82377754,\n        0.82153035, 0.82153035, 0.82153035, 0.82153035, 0.82041303,\n        0.82043186, 0.81931454, 0.81819095, 0.81931454, 0.81707363,\n        0.81819095, 0.81707363, 0.81707363, 0.81260436, 0.81372795,\n        0.81257925, 0.81258553, 0.81370912, 0.81483272, 0.8182035 ,\n        0.81595631, 0.82157429, 0.82382148, 0.82494508, 0.82045697,\n        0.82831586, 0.82719227, 0.82719227, 0.83056305, 0.82943946,\n        0.83168037, 0.83168037, 0.83280397, 0.83168665, 0.82945201,\n        0.83054422, 0.83166782, 0.83167409, 0.82943318, 0.82830331,\n        0.82830331, 0.82830331, 0.82943318, 0.82830331, 0.82830959]),\n 'std_test_score': array([0.00670006, 0.00909387, 0.01046891, 0.00976336, 0.01628218,\n        0.01583597, 0.01583597, 0.01583597, 0.01583597, 0.01479841,\n        0.01660081, 0.01706702, 0.01890532, 0.01848734, 0.01781741,\n        0.01715481, 0.01781741, 0.01781741, 0.02258368, 0.02387615,\n        0.0219899 , 0.02043995, 0.02156983, 0.02286533, 0.02006559,\n        0.01768462, 0.02424767, 0.0274514 , 0.02918123, 0.02774702,\n        0.03227872, 0.03145473, 0.03145473, 0.03375459, 0.03004225,\n        0.03077865, 0.03077865, 0.03146038, 0.03252794, 0.03499502,\n        0.02817905, 0.02918333, 0.0314315 , 0.0313231 , 0.03351417,\n        0.03351417, 0.03351417, 0.03618533, 0.03480764, 0.0351301 ]),\n 'rank_test_score': array([44, 26, 23, 26, 24, 28, 28, 28, 28, 34, 33, 35, 38, 35, 40, 38, 40,\n        40, 48, 46, 50, 49, 47, 45, 37, 43, 25, 22, 21, 32, 13, 19, 19,  7,\n        10,  3,  3,  1,  2,  9,  8,  6,  5, 11, 15, 15, 15, 11, 15, 14],\n       dtype=int32)}"
     },
     "execution_count": 13,
     "metadata": {},
     "output_type": "execute_result"
    }
   ],
   "source": [
    "grid_search.cv_results_"
   ]
  }
 ]
}